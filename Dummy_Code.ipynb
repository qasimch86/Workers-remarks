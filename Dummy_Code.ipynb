{
 "cells": [
  {
   "cell_type": "code",
   "execution_count": 1,
   "metadata": {},
   "outputs": [],
   "source": [
    "import pandas as pd\n",
    "from collections import OrderedDict\n",
    "import os\n",
    "import numpy as np\n",
    "import math as mt\n",
    "os.chdir('/Users/dummydata')\n",
    "comb_df=pd.DataFrame()\n",
    "#comb_df=OrderedDict()\n",
    "for i in range(1,20):\n",
    "    f_name='Data'+str(i)+'.xlsx'\n",
    "    df=pd.read_excel(f_name,parse_date=['conversation_created_at'])\n",
    "    new_df=pd.DataFrame({'BranchID':df.fac_id,'WorkerID':df.user_id,'Time': df.conversation_created_at,\n",
    "                        'Duration':df.duration})\n",
    "    for j in range(1,14):\n",
    "        new_df['Query'+str(j)]=df['page_name-'+str(j)]\n",
    "        new_df['Response'+str(j)]=df['user_input-'+str(j)]\n",
    "    comb_df=pd.concat([comb_df,new_df], ignore_index=True)"
   ]
  },
  {
   "cell_type": "code",
   "execution_count": 2,
   "metadata": {},
   "outputs": [],
   "source": [
    "#comb_df.Duration.describe()\n",
    "writer=pd.ExcelWriter('Combined0.xlsx')\n",
    "comb_df.to_excel(writer,'Sheet1')\n",
    "writer.save()"
   ]
  },
  {
   "cell_type": "code",
   "execution_count": 3,
   "metadata": {},
   "outputs": [
    {
     "data": {
      "text/plain": [
       "array(['In the last month, were all your wages, including overtime hours, paid on time?',\n",
       "       'In the last month, have you experienced abuse from a manager, such as swearing, physical abuse, or sexual harassment? ',\n",
       "       'Are the fire exits in your factory always accessible at all times? ',\n",
       "       'In the last month, have you witnessed any child worker in your factory? ',\n",
       "       'On a scale of 0 to 4, how would you rate the cleanliness of the toilet in the last month?',\n",
       "       nan,\n",
       "       'Are you forced to work overtime in your factory to avoid non-payment and getting fired?',\n",
       "       'On a scale of 0 to 4, how would you rate the cleanliness of the canteen in the last month?',\n",
       "       'Do you have access to clean drinking water at your factory floor?',\n",
       "       'If you have any other feedback on your factory, press â€œ1â€\\x9d or else press â€œ2â€\\x9d.',\n",
       "       'What type of abuse did you experience? Swearing (S), Physical (P) or Sexual Harassment (SH)',\n",
       "       'Congratulations. You have completed the survey successfully. Your identity is safe with us. Stay connected. Press 1 if you want to hear the main menu or you can hang up the call. ',\n",
       "       'In the last month, have you ever worked more than 10 hours in a day? ',\n",
       "       'Will you recommend this factory to a friend or family member? ',\n",
       "       'Please leave a message on your feedback regarding your factory after the tone and press the # key when finished.',\n",
       "       'Are you free to join or form trade unions/worker welfare committees in your factory?',\n",
       "       'Child labor confirmation'], dtype=object)"
      ]
     },
     "execution_count": 3,
     "metadata": {},
     "output_type": "execute_result"
    }
   ],
   "source": [
    "Qs=[];\n",
    "for i in range(1,14):\n",
    "    Qs.append(comb_df['Query'+str(i)].unique())\n",
    "Q=pd.DataFrame({'Col1': np.concatenate(Qs)}).Col1.unique()\n",
    "Q"
   ]
  },
  {
   "cell_type": "code",
   "execution_count": 4,
   "metadata": {},
   "outputs": [
    {
     "data": {
      "text/plain": [
       "array(['In the last month, were all your wages, including overtime hours, paid on time?',\n",
       "       'Are the fire exits in your factory always accessible at all times? ',\n",
       "       'In the last month, have you experienced abuse from a manager, such as swearing, physical abuse, or sexual harassment? ',\n",
       "       'On a scale of 0 to 4, how would you rate the cleanliness of the toilet in the last month?',\n",
       "       'In the last month, have you witnessed any child worker in your factory? ',\n",
       "       'On a scale of 0 to 4, how would you rate the cleanliness of the canteen in the last month?',\n",
       "       'If you have any other feedback on your factory, press â€œ1â€\\x9d or else press â€œ2â€\\x9d.',\n",
       "       'In the last month, have you ever worked more than 10 hours in a day? ',\n",
       "       'Will you recommend this factory to a friend or family member? ',\n",
       "       'Are you forced to work overtime in your factory to avoid non-payment and getting fired?',\n",
       "       'Do you have access to clean drinking water at your factory floor?',\n",
       "       'What type of abuse did you experience? Swearing (S), Physical (P) or Sexual Harassment (SH)',\n",
       "       'Please leave a message on your feedback regarding your factory after the tone and press the # key when finished.',\n",
       "       'Are you free to join or form trade unions/worker welfare committees in your factory?'],\n",
       "      dtype=object)"
      ]
     },
     "execution_count": 4,
     "metadata": {},
     "output_type": "execute_result"
    }
   ],
   "source": [
    "arr_irrv=[5,11,16]#Remove non-question strings in array Q\n",
    "Q_valid=np.delete(Q,arr_irrv)#Delete non-valid questions but unsorted\n",
    "Q_Top=[]\n",
    "for j in range(0,13):\n",
    "    if len(comb_df['Query'+str(j+1)].unique())==1:\n",
    "        if mt.isnan(comb_df['Query'+str(j+1)].unique()):\n",
    "            print('Query '+str(j+1)+' is NaN in all column entries')\n",
    "            Q_Top[j:]=['NaN']\n",
    "            continue;\n",
    "    Q_Top[j:]=comb_df['Query'+str(j+1)].describe().loc[['top']]\n",
    "Q_list=np.hstack([Q_Top,Q_valid])#combine both lists\n",
    "Q_list=Q_list[Q_list!='NaN']#np.delete(Q_list=='nan') #delete unnecessary rows\n",
    "Q_uniq=pd.unique(pd.Series(Q_list))#Unique and resorted Questions\n",
    "Q_uniq"
   ]
  },
  {
   "cell_type": "code",
   "execution_count": 5,
   "metadata": {},
   "outputs": [
    {
     "name": "stdout",
     "output_type": "stream",
     "text": [
      "0\n",
      "1\n",
      "2\n",
      "3\n",
      "4\n",
      "5\n",
      "6\n",
      "7\n",
      "8\n",
      "9\n",
      "10\n",
      "11\n",
      "12\n"
     ]
    }
   ],
   "source": [
    "#If you want to remove specific values from the dataframes, replace them with empty string\n",
    "for i in range(0,13):\n",
    "    if len(comb_df['Query'+str(i+1)].unique())==1:\n",
    "        if mt.isnan(comb_df['Query'+str(i+1)].unique()):\n",
    "            print('Query '+str(i+1)+' is NaN in all column entries')\n",
    "            Q_Top[j:]=['NaN']\n",
    "            continue;\n",
    "    Irrv_pos0=comb_df[comb_df['Query'+str(i+1)]==Q[arr_irrv[0]]].index\n",
    "    Irrv_pos1=comb_df[comb_df['Query'+str(i+1)]==Q[arr_irrv[1]]].index\n",
    "    Irrv_pos2=comb_df[comb_df['Query'+str(i+1)]==Q[arr_irrv[2]]].index\n",
    "    print(i)\n",
    "    if len(Irrv_pos0)>0:\n",
    "        comb_df.iloc[Irrv_pos0,5+2*i]=''\n",
    "    if len(Irrv_pos1)>0:\n",
    "        comb_df.iloc[Irrv_pos1,5+2*i]=''\n",
    "    if len(Irrv_pos2)>0:\n",
    "        comb_df.iloc[Irrv_pos2,5+2*i]=''"
   ]
  },
  {
   "cell_type": "code",
   "execution_count": 6,
   "metadata": {},
   "outputs": [],
   "source": [
    "comb_df=comb_df.replace(Q[arr_irrv[0]],'')\n",
    "comb_df=comb_df.replace(Q[arr_irrv[1]],'')\n",
    "comb_df=comb_df.replace(Q[arr_irrv[2]],'')"
   ]
  },
  {
   "cell_type": "code",
   "execution_count": 7,
   "metadata": {},
   "outputs": [],
   "source": [
    "writer=pd.ExcelWriter('Combined1.xlsx')\n",
    "comb_df.to_excel(writer,'Sheet1')\n",
    "writer.save()"
   ]
  },
  {
   "cell_type": "code",
   "execution_count": 8,
   "metadata": {},
   "outputs": [
    {
     "name": "stdout",
     "output_type": "stream",
     "text": [
      "30 3853\n"
     ]
    }
   ],
   "source": [
    "c=len(comb_df.iloc[0])#Total number of columns\n",
    "r=len(comb_df)#Total number of rows\n",
    "df_Qsort=pd.DataFrame()\n",
    "df_Qsort=pd.concat([df_Qsort,comb_df])\n",
    "X=[];\n",
    "print(c,r)\n",
    "for k in range(0,r):\n",
    "    ii=0\n",
    "#     print(k,end=\",\",flush=True)\n",
    "    for i in range(4,c,2):\n",
    "        for j in range(4,c,2):\n",
    "            if comb_df.iloc[k,j]==Q_uniq[ii]:\n",
    "                    df_Qsort.iloc[k,i]=comb_df.iloc[k,j]\n",
    "                    df_Qsort.iloc[k,i+1]=comb_df.iloc[k,j+1]\n",
    "                    if i!=j:\n",
    "                        df_Qsort.iloc[k,j]=\"\"\n",
    "                        df_Qsort.iloc[k,j+1]=\"\"\n",
    "        ii=ii+1\n",
    "    X.append(sum(df_Qsort.iloc[k,:]==''))\n",
    "df_Qsort['Null_values']=pd.DataFrame({'Null_values':X}).values\n",
    "Sorted_df=df_Qsort.sort_values('Null_values',ascending=True)#df_Qsort"
   ]
  },
  {
   "cell_type": "code",
   "execution_count": 9,
   "metadata": {},
   "outputs": [],
   "source": [
    "del df_Qsort['Null_values']\n",
    "writer=pd.ExcelWriter('Combined2.xlsx')\n",
    "df_Qsort.to_excel(writer,'Sheet1')\n",
    "writer.save()"
   ]
  },
  {
   "cell_type": "code",
   "execution_count": 10,
   "metadata": {},
   "outputs": [],
   "source": [
    "del Sorted_df['Null_values']\n",
    "writer=pd.ExcelWriter('Combined3.xlsx')\n",
    "Sorted_df.to_excel(writer,'Sheet1')\n",
    "writer.save()"
   ]
  },
  {
   "cell_type": "code",
   "execution_count": 11,
   "metadata": {},
   "outputs": [],
   "source": [
    "#Deleting unnecessary rows"
   ]
  },
  {
   "cell_type": "code",
   "execution_count": 12,
   "metadata": {},
   "outputs": [
    {
     "data": {
      "text/plain": [
       "(3853, 30, 3853, 3624)"
      ]
     },
     "execution_count": 12,
     "metadata": {},
     "output_type": "execute_result"
    }
   ],
   "source": [
    "Y=np.sort(X)\n",
    "len(Sorted_df),len(Sorted_df.iloc[0]),len(Y),len(Y[Y<22])"
   ]
  },
  {
   "cell_type": "code",
   "execution_count": 13,
   "metadata": {},
   "outputs": [
    {
     "data": {
      "text/html": [
       "<div>\n",
       "<style scoped>\n",
       "    .dataframe tbody tr th:only-of-type {\n",
       "        vertical-align: middle;\n",
       "    }\n",
       "\n",
       "    .dataframe tbody tr th {\n",
       "        vertical-align: top;\n",
       "    }\n",
       "\n",
       "    .dataframe thead th {\n",
       "        text-align: right;\n",
       "    }\n",
       "</style>\n",
       "<table border=\"1\" class=\"dataframe\">\n",
       "  <thead>\n",
       "    <tr style=\"text-align: right;\">\n",
       "      <th></th>\n",
       "      <th>BranchID</th>\n",
       "      <th>Duration</th>\n",
       "      <th>Time</th>\n",
       "      <th>WorkerID</th>\n",
       "      <th>Query1</th>\n",
       "      <th>Response1</th>\n",
       "      <th>Query2</th>\n",
       "      <th>Response2</th>\n",
       "      <th>Query3</th>\n",
       "      <th>Response3</th>\n",
       "      <th>...</th>\n",
       "      <th>Query9</th>\n",
       "      <th>Response9</th>\n",
       "      <th>Query10</th>\n",
       "      <th>Response10</th>\n",
       "      <th>Query11</th>\n",
       "      <th>Response11</th>\n",
       "      <th>Query12</th>\n",
       "      <th>Response12</th>\n",
       "      <th>Query13</th>\n",
       "      <th>Response13</th>\n",
       "    </tr>\n",
       "  </thead>\n",
       "  <tbody>\n",
       "    <tr>\n",
       "      <th>0</th>\n",
       "      <td>o1</td>\n",
       "      <td>108.692997</td>\n",
       "      <td>2016-07-15 07:08:00 UTC</td>\n",
       "      <td>17893</td>\n",
       "      <td>In the last month, were all your wages, includ...</td>\n",
       "      <td>1</td>\n",
       "      <td>Are the fire exits in your factory always acce...</td>\n",
       "      <td>1</td>\n",
       "      <td>In the last month, have you experienced abuse ...</td>\n",
       "      <td>2</td>\n",
       "      <td>...</td>\n",
       "      <td>Will you recommend this factory to a friend or...</td>\n",
       "      <td>1</td>\n",
       "      <td></td>\n",
       "      <td></td>\n",
       "      <td></td>\n",
       "      <td></td>\n",
       "      <td></td>\n",
       "      <td></td>\n",
       "      <td></td>\n",
       "      <td></td>\n",
       "    </tr>\n",
       "    <tr>\n",
       "      <th>1891</th>\n",
       "      <td>o8</td>\n",
       "      <td>108.354810</td>\n",
       "      <td>2016-07-20 12:04:52 UTC</td>\n",
       "      <td>10542</td>\n",
       "      <td>In the last month, were all your wages, includ...</td>\n",
       "      <td>1</td>\n",
       "      <td>Are the fire exits in your factory always acce...</td>\n",
       "      <td>1</td>\n",
       "      <td>In the last month, have you experienced abuse ...</td>\n",
       "      <td>2</td>\n",
       "      <td>...</td>\n",
       "      <td>Will you recommend this factory to a friend or...</td>\n",
       "      <td>1</td>\n",
       "      <td></td>\n",
       "      <td></td>\n",
       "      <td></td>\n",
       "      <td></td>\n",
       "      <td></td>\n",
       "      <td></td>\n",
       "      <td></td>\n",
       "      <td></td>\n",
       "    </tr>\n",
       "  </tbody>\n",
       "</table>\n",
       "<p>2 rows × 30 columns</p>\n",
       "</div>"
      ],
      "text/plain": [
       "     BranchID    Duration                     Time WorkerID  \\\n",
       "0          o1  108.692997  2016-07-15 07:08:00 UTC    17893   \n",
       "1891       o8  108.354810  2016-07-20 12:04:52 UTC    10542   \n",
       "\n",
       "                                                 Query1 Response1  \\\n",
       "0     In the last month, were all your wages, includ...         1   \n",
       "1891  In the last month, were all your wages, includ...         1   \n",
       "\n",
       "                                                 Query2 Response2  \\\n",
       "0     Are the fire exits in your factory always acce...         1   \n",
       "1891  Are the fire exits in your factory always acce...         1   \n",
       "\n",
       "                                                 Query3 Response3    ...      \\\n",
       "0     In the last month, have you experienced abuse ...         2    ...       \n",
       "1891  In the last month, have you experienced abuse ...         2    ...       \n",
       "\n",
       "                                                 Query9 Response9 Query10  \\\n",
       "0     Will you recommend this factory to a friend or...         1           \n",
       "1891  Will you recommend this factory to a friend or...         1           \n",
       "\n",
       "     Response10 Query11 Response11 Query12 Response12 Query13 Response13  \n",
       "0                                                                         \n",
       "1891                                                                      \n",
       "\n",
       "[2 rows x 30 columns]"
      ]
     },
     "execution_count": 13,
     "metadata": {},
     "output_type": "execute_result"
    }
   ],
   "source": [
    "Sorted_df.head(2)"
   ]
  },
  {
   "cell_type": "code",
   "execution_count": 14,
   "metadata": {},
   "outputs": [
    {
     "data": {
      "text/plain": [
       "3624"
      ]
     },
     "execution_count": 14,
     "metadata": {},
     "output_type": "execute_result"
    }
   ],
   "source": [
    "# Now we can see first four columns are reserved while next are Queries and their responses.\n",
    "# We want to delete all those rows that have 1 or 2 responses. This means Y<10.\n",
    "# Since we have already arranged the data set, we can delete the required rows easily\n",
    "comb_df2=Sorted_df.drop(Sorted_df.index[Y>21])\n",
    "len(comb_df2)"
   ]
  },
  {
   "cell_type": "code",
   "execution_count": 15,
   "metadata": {},
   "outputs": [],
   "source": [
    "writer=pd.ExcelWriter('Combined4.xlsx')\n",
    "comb_df2.to_excel(writer,'Sheet1')\n",
    "writer.save()"
   ]
  },
  {
   "cell_type": "code",
   "execution_count": null,
   "metadata": {},
   "outputs": [],
   "source": []
  }
 ],
 "metadata": {
  "kernelspec": {
   "display_name": "Python 3",
   "language": "python",
   "name": "python3"
  },
  "language_info": {
   "codemirror_mode": {
    "name": "ipython",
    "version": 3
   },
   "file_extension": ".py",
   "mimetype": "text/x-python",
   "name": "python",
   "nbconvert_exporter": "python",
   "pygments_lexer": "ipython3",
   "version": "3.6.4"
  }
 },
 "nbformat": 4,
 "nbformat_minor": 2
}
